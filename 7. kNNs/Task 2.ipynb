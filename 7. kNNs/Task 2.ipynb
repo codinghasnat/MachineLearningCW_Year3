{
  "cells": [
    {
      "cell_type": "markdown",
      "metadata": {
        "colab_type": "text",
        "id": "view-in-github"
      },
      "source": [
        "<a href=\"https://colab.research.google.com/github/abuebayyeh/imperial_eee_machine_learning_course/blob/main/07_ML_kNN.ipynb\" target=\"_parent\"><img src=\"https://colab.research.google.com/assets/colab-badge.svg\" alt=\"Open In Colab\"/></a>"
      ]
    },
    {
      "cell_type": "markdown",
      "id": "30b6fcf2",
      "metadata": {
        "id": "30b6fcf2"
      },
      "source": [
        "# k-nearest neighbour (k-NN)\n",
        "\n",
        "\n",
        "---\n",
        "\n",
        "\n",
        "The k-Nearest Neighbors (k-NN) algorithm is a versatile supervised machine learning technique suitable for both classification and regression tasks. At its core, k-NN operates on the principle that you can determine the label or value of a data point by examining its proximity to other data points with known labels or values. In essence, it's like asking your neighbors for advice when you're unsure about something – your decision is influenced by what your nearby neighbors think.\n",
        "\n",
        "## Understanding the Basics\n",
        "\n",
        "Here's a breakdown of the fundamental concepts behind the k-NN algorithm:\n",
        "\n",
        "### 1. Nearest Neighbors\n",
        "\n",
        "When using k-NN, the algorithm identifies the k data points that are closest to the data point you want to classify or predict. These data points serve as your \"neighbors\" in the feature space. The choice of distance metric, such as Euclidean or Manhattan distance, determines how we measure this closeness.\n",
        "\n",
        "### 2. Selecting 'k'\n",
        "\n",
        "One crucial parameter you must decide on is 'k,' the number of nearest neighbors to consider. The value of 'k' significantly influences the algorithm's behavior. To illustrate, let's say we have two classes, represented as △ and □, and we want to classify an unknown point represented by a question mark (?).\n",
        "\n",
        "   - If 'k' is set to 1, the algorithm assigns the class of the closest neighbor, in this case, △.\n",
        "   - If 'k' is set to 3, the algorithm looks at the three nearest neighbors and assigns the class based on the majority, which in this example would be □.\n",
        "\n",
        "![knn.gif](data:image/gif;base64,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)\n",
        "\n",
        "### Pros and Cons\n",
        "\n",
        "k-NN has its strengths and weaknesses:\n",
        "\n",
        "**Advantages:**\n",
        "\n",
        "- No Explicit Training: Unlike many other machine learning algorithms, k-NN doesn't require a dedicated training step. It learns from the data directly during classification or prediction.\n",
        "- No Data Loss: All information present in the training data is retained because the algorithm stores the instances explicitly.\n",
        "\n",
        "**Disadvantages:**\n",
        "\n",
        "- High Computation Cost: Most of the computation occurs during classification, which can be computationally expensive, especially for large datasets.\n",
        "- Memory Intensive: Since k-NN considers the entire training set during classification, it demands substantial memory capacity.\n",
        "- Sensitivity to 'k': The choice of 'k' can significantly affect the algorithm's output, making it sensitive to this hyperparameter.\n",
        "\n",
        "In this Google Colab exercise, we will explore how to implement and fine-tune the k-NN algorithm, understanding its strengths and weaknesses, and gaining practical insights into its application.\n",
        "\n",
        "\n",
        "\n",
        "\n",
        "In this tutorial, we will investigate using k-NN classifier on the Iris-datset."
      ]
    },
    {
      "cell_type": "code",
      "execution_count": 4,
      "id": "8b8f49b9",
      "metadata": {
        "id": "8b8f49b9"
      },
      "outputs": [],
      "source": [
        "import numpy as np\n",
        "import math\n",
        "from sklearn import preprocessing\n",
        "import matplotlib.colors as colors\n",
        "import matplotlib.pyplot as plt\n",
        "import pandas as pd\n",
        "from sklearn import datasets"
      ]
    },
    {
      "cell_type": "code",
      "execution_count": 5,
      "id": "9db05c52",
      "metadata": {
        "id": "9db05c52"
      },
      "outputs": [],
      "source": [
        "iris_data = datasets.load_iris()"
      ]
    },
    {
      "cell_type": "code",
      "execution_count": 6,
      "id": "f6a1b595",
      "metadata": {
        "id": "f6a1b595"
      },
      "outputs": [],
      "source": [
        "# Function to divide the data into training and testing\n",
        "\n",
        "import random\n",
        "random.seed(22)\n",
        "def separate_data():\n",
        "    train_A = iris_dataset[0:40]\n",
        "    test_A = iris_dataset[40:50]\n",
        "    train_B = iris_dataset[50:90]\n",
        "    test_B = iris_dataset[90:100]\n",
        "    train_C = iris_dataset[100:140]\n",
        "    test_C = iris_dataset[140:150]\n",
        "    train = np.concatenate((train_A,train_B,train_C))\n",
        "    test =  np.concatenate((test_A,test_B,test_C))\n",
        "    return train,test\n",
        "\n",
        "iris_dataset = np.column_stack((iris_data.data,iris_data.target.T)) #Join X and Y\n",
        "iris_dataset = list(iris_dataset)\n",
        "random.shuffle(iris_dataset)\n",
        "\n",
        "Filetrain, Filetest = separate_data()\n",
        "\n",
        "X_train = np.array([i[:4] for i in Filetrain])\n",
        "y_train = np.array([i[4] for i in Filetrain])\n",
        "X_test = np.array([i[:4] for i in Filetest])\n",
        "y_test = np.array([i[4] for i in Filetest])"
      ]
    },
    {
      "cell_type": "code",
      "execution_count": 7,
      "id": "06b3c2e0",
      "metadata": {
        "id": "06b3c2e0"
      },
      "outputs": [],
      "source": [
        "#Calculates distance\n",
        "def euclidean_distance(p1, p2):\n",
        "    squared_difference = 0.0\n",
        "    for i in range(len(p1)):\n",
        "        squared_difference += (p1[i] - p2[i])**2\n",
        "    final_distance = squared_difference ** 0.5\n",
        "    return final_distance\n",
        "\n",
        "def manhattan_distance(p1, p2):\n",
        "    squared_difference = 0.0\n",
        "    for i in range(len(p1)):\n",
        "        squared_difference += abs(p1[i] - p2[i])\n",
        "\n",
        "    return squared_difference\n",
        "\n",
        "def minkowski_distance(p1, p2, p):\n",
        "    distance = 0.0\n",
        "    for i in range(len(p1)):\n",
        "        distance += abs(p1[i] - p2[i]) ** p\n",
        "\n",
        "    return distance ** (1/p)"
      ]
    },
    {
      "cell_type": "code",
      "execution_count": 8,
      "id": "acc8422c",
      "metadata": {
        "id": "acc8422c"
      },
      "outputs": [],
      "source": [
        "def fit(test_sample, training_set, training_labels, k, d_parameter):\n",
        "\n",
        "    distances = []\n",
        "\n",
        "    # Computing the distances for all data points with respect to test sample\n",
        "\n",
        "    #    neighbours, pred_label = fit(test_instance, X_train, y_train, k, \"euclidean\")\n",
        "    #         elif distance_measure == 'Manhattan':\n",
        "    #             neighbours, pred_label = fit(test_instance, X_train, y_train, k, \"Manhattan\")\n",
        "    #         elif distance_measure == 'Minkowski':\n",
        "    #             # Set your desired 'p' value for Minkowski distance\n",
        "    #             p = 3\n",
        "    #             neighbours, pred_label = fit(test_instance, X_train, y_train, k, \"Minowski\")\n",
        "\n",
        "\n",
        "    for i in range(len(training_set)):\n",
        "        if d_parameter == \"Euclidean\":\n",
        "            distance_to_point = euclidean_distance(test_sample, training_set[i])\n",
        "        elif d_parameter == \"Manhattan\":\n",
        "            distance_to_point = manhattan_distance(test_sample, training_set[i])\n",
        "        else:\n",
        "            distance_to_point = minkowski_distance(test_sample, training_set[i],3)\n",
        "\n",
        "        distances.append([distance_to_point, training_set[i], training_labels[i]])\n",
        "    # sort the distances\n",
        "    distances.sort(key = lambda x : x[0])\n",
        "\n",
        "    # Find the k nearest neighbours according to the distances\n",
        "    k_nearest_neighbours = distances[0:k]\n",
        "\n",
        "    # Getting class with majority voting\n",
        "    label_counts = {}\n",
        "    for i in range(0, k):\n",
        "        closest_label = k_nearest_neighbours[i][2]\n",
        "\n",
        "        if (closest_label in label_counts) == True:\n",
        "            label_counts[closest_label] += 1\n",
        "        else:\n",
        "            label_counts[closest_label] = 1\n",
        "\n",
        "    labelCounts = list(label_counts.values())\n",
        "    classes = list(label_counts.keys())\n",
        "    y_pred = classes[labelCounts.index(max(labelCounts))]\n",
        "\n",
        "    return (k_nearest_neighbours, y_pred)"
      ]
    },
    {
      "cell_type": "code",
      "execution_count": 9,
      "id": "fd35f32f",
      "metadata": {
        "colab": {
          "base_uri": "https://localhost:8080/"
        },
        "id": "fd35f32f",
        "outputId": "d14d57af-dc8f-477f-d28a-e4fd38ebcf44"
      },
      "outputs": [
        {
          "name": "stdout",
          "output_type": "stream",
          "text": [
            "Test sample predictions for k = 3 \t\n",
            "*********************************\n",
            "test sample: [5.1 3.8 1.9 0.4] \t predicted label: 0.0 \t true label: 0.0 \t Correctly classified\n",
            "test sample: [6.3 2.3 4.4 1.3] \t predicted label: 1.0 \t true label: 1.0 \t Correctly classified\n",
            "test sample: [6.5 3.  5.5 1.8] \t predicted label: 2.0 \t true label: 2.0 \t Correctly classified\n",
            "test sample: [6.7 2.5 5.8 1.8] \t predicted label: 2.0 \t true label: 2.0 \t Correctly classified\n",
            "test sample: [6.2 2.9 4.3 1.3] \t predicted label: 1.0 \t true label: 1.0 \t Correctly classified\n",
            "test sample: [7.2 3.2 6.  1.8] \t predicted label: 2.0 \t true label: 2.0 \t Correctly classified\n",
            "test sample: [4.4 2.9 1.4 0.2] \t predicted label: 0.0 \t true label: 0.0 \t Correctly classified\n",
            "test sample: [6.1 2.9 4.7 1.4] \t predicted label: 1.0 \t true label: 1.0 \t Correctly classified\n",
            "test sample: [7.1 3.  5.9 2.1] \t predicted label: 2.0 \t true label: 2.0 \t Correctly classified\n",
            "test sample: [4.7 3.2 1.3 0.2] \t predicted label: 0.0 \t true label: 0.0 \t Correctly classified\n",
            "test sample: [6.7 3.  5.2 2.3] \t predicted label: 2.0 \t true label: 2.0 \t Correctly classified\n",
            "test sample: [6.3 2.5 4.9 1.5] \t predicted label: 2.0 \t true label: 1.0 \t Misclassified\n",
            "test sample: [6.  2.2 5.  1.5] \t predicted label: 2.0 \t true label: 2.0 \t Correctly classified\n",
            "test sample: [7.9 3.8 6.4 2. ] \t predicted label: 2.0 \t true label: 2.0 \t Correctly classified\n",
            "test sample: [5.4 3.  4.5 1.5] \t predicted label: 1.0 \t true label: 1.0 \t Correctly classified\n",
            "test sample: [6.9 3.2 5.7 2.3] \t predicted label: 2.0 \t true label: 2.0 \t Correctly classified\n",
            "test sample: [6.9 3.1 4.9 1.5] \t predicted label: 1.0 \t true label: 1.0 \t Correctly classified\n",
            "test sample: [5.6 3.  4.5 1.5] \t predicted label: 1.0 \t true label: 1.0 \t Correctly classified\n",
            "test sample: [5.5 3.5 1.3 0.2] \t predicted label: 0.0 \t true label: 0.0 \t Correctly classified\n",
            "test sample: [5.6 2.9 3.6 1.3] \t predicted label: 1.0 \t true label: 1.0 \t Correctly classified\n",
            "test sample: [6.2 2.2 4.5 1.5] \t predicted label: 1.0 \t true label: 1.0 \t Correctly classified\n",
            "test sample: [5.2 2.7 3.9 1.4] \t predicted label: 1.0 \t true label: 1.0 \t Correctly classified\n",
            "test sample: [5.4 3.4 1.7 0.2] \t predicted label: 0.0 \t true label: 0.0 \t Correctly classified\n",
            "test sample: [5.6 3.  4.1 1.3] \t predicted label: 1.0 \t true label: 1.0 \t Correctly classified\n",
            "test sample: [4.8 3.1 1.6 0.2] \t predicted label: 0.0 \t true label: 0.0 \t Correctly classified\n",
            "test sample: [4.6 3.2 1.4 0.2] \t predicted label: 0.0 \t true label: 0.0 \t Correctly classified\n",
            "test sample: [5.8 2.8 5.1 2.4] \t predicted label: 2.0 \t true label: 2.0 \t Correctly classified\n",
            "test sample: [4.6 3.4 1.4 0.3] \t predicted label: 0.0 \t true label: 0.0 \t Correctly classified\n",
            "test sample: [6.  2.2 4.  1. ] \t predicted label: 1.0 \t true label: 1.0 \t Correctly classified\n",
            "test sample: [5.  3.2 1.2 0.2] \t predicted label: 0.0 \t true label: 0.0 \t Correctly classified\n"
          ]
        }
      ],
      "source": [
        "#Euclidean or Manhattan\n",
        "what_d_parameter = \"Euclidean\"\n",
        "k = 3\n",
        "print(f'Test sample predictions for k = {k} \\t')\n",
        "print('*********************************')\n",
        "for i in range(len(X_test)):\n",
        "    #Change the last value to what you want\n",
        "    neighbours, pred_label = fit(X_test[i], X_train, y_train, k, what_d_parameter )\n",
        "    if (pred_label == y_test[i]):\n",
        "        print(f'test sample: {X_test[i]} \\t',\n",
        "          f'predicted label: {pred_label} \\t', f'true label: {y_test[i]} \\t', \"Correctly classified\")\n",
        "    else:\n",
        "\n",
        "        print(f'test sample: {X_test[i]} \\t',\n",
        "          f'predicted label: {pred_label} \\t', f'true label: {y_test[i]} \\t', \"Misclassified\")"
      ]
    },
    {
      "cell_type": "code",
      "execution_count": 10,
      "id": "7615b203",
      "metadata": {
        "id": "7615b203"
      },
      "outputs": [],
      "source": [
        "def accuracy(pred_label, true_label):\n",
        "    TP = 0\n",
        "    for i in range(len(pred_label)):\n",
        "        if(pred_label[i] == true_label[i]):\n",
        "            TP += 1\n",
        "\n",
        "    accuracy = (TP / len(pred_label))\n",
        "    return accuracy"
      ]
    },
    {
      "cell_type": "code",
      "execution_count": 11,
      "id": "cfba8e83",
      "metadata": {
        "colab": {
          "base_uri": "https://localhost:8080/",
          "height": 732
        },
        "id": "cfba8e83",
        "outputId": "af76f4b7-39de-4004-8b60-4ebda7cb7136"
      },
      "outputs": [
        {
          "name": "stdout",
          "output_type": "stream",
          "text": [
            "For k = 1, Accuracy 0.9333333333333333\n",
            "For k = 3, Accuracy 0.9666666666666667\n",
            "For k = 5, Accuracy 0.9666666666666667\n",
            "For k = 7, Accuracy 0.9666666666666667\n",
            "For k = 9, Accuracy 0.9666666666666667\n",
            "For k = 11, Accuracy 0.9666666666666667\n",
            "For k = 13, Accuracy 1.0\n",
            "For k = 15, Accuracy 1.0\n",
            "For k = 17, Accuracy 0.9666666666666667\n",
            "For k = 19, Accuracy 0.9666666666666667\n",
            "For k = 21, Accuracy 0.9666666666666667\n",
            "For k = 23, Accuracy 0.9666666666666667\n",
            "For k = 25, Accuracy 0.9666666666666667\n",
            "For k = 27, Accuracy 0.9666666666666667\n",
            "For k = 29, Accuracy 0.9666666666666667\n"
          ]
        },
        {
          "data": {
            "image/png": "[encoded data removed]",
            "text/plain": [
              "<Figure size 640x480 with 1 Axes>"
            ]
          },
          "metadata": {},
          "output_type": "display_data"
        }
      ],
      "source": [
        "accuracy_list = []\n",
        "k_list = [1, 3, 5, 7, 9, 11, 13, 15, 17, 19, 21, 23, 25, 27, 29]\n",
        "\n",
        "for k in k_list:\n",
        "    y_pred = []\n",
        "    for test_instance in X_test:\n",
        "        \n",
        "        neighbours, pred_label = fit(test_instance, X_train, y_train, k, what_d_parameter)\n",
        "        y_pred.append(pred_label)\n",
        "    acc = accuracy(y_pred, y_test)\n",
        "    print(\"For k = {}, Accuracy {}\".format(k,acc))\n",
        "\n",
        "    accuracy_list.append(acc)\n",
        "plt.plot(k_list, accuracy_list)\n",
        "\n",
        "plt.xlabel('k')\n",
        "plt.ylabel('Accuracy')\n",
        "plt.title('k vs Accuracy')\n",
        "\n",
        "plt.show()"
      ]
    },
    {
      "cell_type": "code",
      "execution_count": 12,
      "id": "dd775c7b",
      "metadata": {
        "id": "dd775c7b"
      },
      "outputs": [],
      "source": [
        "from matplotlib.colors import ListedColormap\n",
        "h = .02  # step size in the mesh\n",
        "\n",
        "# Create color maps\n",
        "cmap_light = ListedColormap(['#FFAAAA', '#AAFFAA', '#AAAAFF'])\n",
        "cmap_bold = ListedColormap(['#FF0000', '#00FF00', '#0000FF'])\n",
        "\n",
        "def decision_boundary(k):\n",
        "    # For better data visulaisation we considered the first two features (petal length and sepal length)\n",
        "    # in the decision boundary plot.\n",
        "    X = np.concatenate((X_train, X_test))\n",
        "    X = X[:, :2]\n",
        "    y = np.concatenate((y_train, y_test))\n",
        "\n",
        "    # Plot the decision boundary. For that, we will assign a color to each\n",
        "    # point in the mesh [x_min, x_max]x[y_min, y_max].\n",
        "    x_min, x_max = X[:, 0].min() - 1, X[:, 0].max() + 1\n",
        "    y_min, y_max = X[:, 1].min() - 1, X[:, 1].max() + 1\n",
        "    xx, yy = np.meshgrid(np.arange(x_min, x_max, h), np.arange(y_min, y_max, h))\n",
        "\n",
        "    Z = np.c_[xx.ravel(), yy.ravel()]\n",
        "\n",
        "    y_preds = []\n",
        "\n",
        "    for item in Z:\n",
        "        neighbours, pred_label = fit(item, X, y, k,what_d_parameter)\n",
        "        y_preds.append(pred_label)\n",
        "\n",
        "     # Put the result into a color plot\n",
        "    y_preds = np.asarray(y_preds)\n",
        "    y_preds = y_preds.reshape(xx.shape)\n",
        "\n",
        "    plt.figure()\n",
        "    plt.pcolormesh(xx, yy, y_preds, cmap=cmap_light)\n",
        "\n",
        "    # Plot also the training points\n",
        "    plt.scatter(X[:, 0], X[:, 1], c=y, cmap=cmap_bold)\n",
        "    plt.xlim(xx.min(), xx.max())\n",
        "    plt.ylim(yy.min(), yy.max())\n",
        "    plt.title(\"Decision boundary for k = {0}\".format(k))\n",
        "\n",
        "    plt.show()"
      ]
    },
    {
      "cell_type": "code",
      "execution_count": 13,
      "id": "0f3066cb",
      "metadata": {
        "colab": {
          "base_uri": "https://localhost:8080/",
          "height": 1000
        },
        "id": "0f3066cb",
        "outputId": "f6d61b27-671e-4a6f-c856-624c59179398",
        "scrolled": false
      },
      "outputs": [],
      "source": [
        "# # This code may take several minutes to finish\n",
        "# for k in k_list:\n",
        "#     decision_boundary(k)"
      ]
    },
    {
      "cell_type": "code",
      "execution_count": 14,
      "metadata": {},
      "outputs": [
        {
          "name": "stdout",
          "output_type": "stream",
          "text": [
            "For k = 1, Euclidean, Accuracy 93.33 %\n",
            "For k = 3, Euclidean, Accuracy 96.67 %\n",
            "For k = 5, Euclidean, Accuracy 96.67 %\n",
            "For k = 7, Euclidean, Accuracy 96.67 %\n",
            "For k = 9, Euclidean, Accuracy 96.67 %\n",
            "For k = 11, Euclidean, Accuracy 96.67 %\n",
            "For k = 13, Euclidean, Accuracy 100.00 %\n",
            "For k = 15, Euclidean, Accuracy 100.00 %\n",
            "For k = 17, Euclidean, Accuracy 96.67 %\n",
            "For k = 19, Euclidean, Accuracy 96.67 %\n",
            "For k = 21, Euclidean, Accuracy 96.67 %\n",
            "For k = 23, Euclidean, Accuracy 96.67 %\n",
            "For k = 25, Euclidean, Accuracy 96.67 %\n",
            "For k = 27, Euclidean, Accuracy 96.67 %\n",
            "For k = 29, Euclidean, Accuracy 96.67 %\n",
            "For k = 1, Manhattan, Accuracy 93.33 %\n",
            "For k = 3, Manhattan, Accuracy 96.67 %\n",
            "For k = 5, Manhattan, Accuracy 96.67 %\n",
            "For k = 7, Manhattan, Accuracy 96.67 %\n",
            "For k = 9, Manhattan, Accuracy 96.67 %\n",
            "For k = 11, Manhattan, Accuracy 96.67 %\n",
            "For k = 13, Manhattan, Accuracy 96.67 %\n",
            "For k = 15, Manhattan, Accuracy 96.67 %\n",
            "For k = 17, Manhattan, Accuracy 100.00 %\n",
            "For k = 19, Manhattan, Accuracy 100.00 %\n",
            "For k = 21, Manhattan, Accuracy 100.00 %\n",
            "For k = 23, Manhattan, Accuracy 96.67 %\n",
            "For k = 25, Manhattan, Accuracy 96.67 %\n",
            "For k = 27, Manhattan, Accuracy 96.67 %\n",
            "For k = 29, Manhattan, Accuracy 93.33 %\n",
            "For k = 1, Minkowski, Accuracy 93.33 %\n",
            "For k = 3, Minkowski, Accuracy 93.33 %\n",
            "For k = 5, Minkowski, Accuracy 93.33 %\n",
            "For k = 7, Minkowski, Accuracy 96.67 %\n",
            "For k = 9, Minkowski, Accuracy 96.67 %\n",
            "For k = 11, Minkowski, Accuracy 100.00 %\n",
            "For k = 13, Minkowski, Accuracy 100.00 %\n",
            "For k = 15, Minkowski, Accuracy 100.00 %\n",
            "For k = 17, Minkowski, Accuracy 96.67 %\n",
            "For k = 19, Minkowski, Accuracy 96.67 %\n",
            "For k = 21, Minkowski, Accuracy 96.67 %\n",
            "For k = 23, Minkowski, Accuracy 96.67 %\n",
            "For k = 25, Minkowski, Accuracy 96.67 %\n",
            "For k = 27, Minkowski, Accuracy 96.67 %\n",
            "For k = 29, Minkowski, Accuracy 96.67 %\n"
          ]
        }
      ],
      "source": [
        "# Empty list to store results\n",
        "result_list = []\n",
        "p = 3\n",
        "\n",
        "for distance_measure in ['Euclidean', 'Manhattan', 'Minkowski']:\n",
        "    for k in k_list:\n",
        "        y_pred = []\n",
        "        for test_instance in X_test:\n",
        "            if distance_measure == 'Euclidean':\n",
        "                neighbours, pred_label = fit(test_instance, X_train, y_train, k, \"Euclidean\")\n",
        "            elif distance_measure == 'Manhattan':\n",
        "                neighbours, pred_label = fit(test_instance, X_train, y_train, k, \"Manhattan\")\n",
        "            elif distance_measure == 'Minkowski':\n",
        "                # Set your desired 'p' value for Minkowski distance\n",
        "                p = 3\n",
        "                neighbours, pred_label = fit(test_instance, X_train, y_train, k, \"Minkowski\")\n",
        "            \n",
        "            y_pred.append(pred_label)\n",
        "        \n",
        "        acc = accuracy(y_pred, y_test)\n",
        "        result_list.append({'Distance Measure': distance_measure, 'k Value': k, 'Accuracy': acc})\n",
        "        print(\"For k = {}, {}, Accuracy {:.2f} %\".format(k, distance_measure, acc * 100))\n",
        "\n",
        "# Create DataFrame from the list\n",
        "result_df = pd.DataFrame(result_list)\n",
        "\n",
        "\n"
      ]
    },
    {
      "cell_type": "markdown",
      "id": "da219de2",
      "metadata": {
        "id": "da219de2"
      },
      "source": [
        "# Distance Measures\n",
        "\n",
        "When using the k-Nearest Neighbors (k-NN) algorithm, selecting an appropriate distance measure is crucial as it affects how \"closeness\" between data points is defined. Different distance measures are used depending on the nature of the data and the problem you're trying to solve. Here, we'll explore four common distance measures:\n",
        "\n",
        "## Euclidean Distance\n",
        "\n",
        "Euclidean distance is the most widely used distance measure. It calculates the straight-line distance between two points in the feature space. For two points, $\\mathbf{p} = (x_1, y_1, z_1, \\ldots)$ and $\\mathbf{q} = (x_2, y_2, z_2, \\ldots)$, Euclidean distance is calculated as:\n",
        "\n",
        "\n",
        "$ d_{\\text{Euclidean}}(\\mathbf{p}, \\mathbf{q}) = \\sqrt{(x_2 - x_1)^2 + (y_2 - y_1)^2 + (z_2 - z_1)^2 + \\ldots} $\n",
        "\n",
        "\n",
        "It measures the \"as-the-crow-flies\" distance and works well for continuous data.\n",
        "\n",
        "## Manhattan Distance\n",
        "\n",
        "Manhattan distance, also known as L1 distance, calculates the sum of absolute differences between the coordinates of two points. It is especially suitable for data with a grid-like structure, such as grids or city block layouts. For points A and B, it is computed as:\n",
        "\n",
        "$ d_{\\text{Manhattan}}(\\mathbf{p}, \\mathbf{q}) = |x_2 - x_1| + |y_2 - y_1| + |z_2 - z_1| + \\ldots  $\n",
        "\n",
        "## Minkowski Distance\n",
        "\n",
        "Minkowski distance is a generalized distance measure that includes Euclidean and Manhattan distances as special cases. It's controlled by a parameter 'p,' and for 'p' equal to 1, it becomes the Manhattan distance, while for 'p' equal to 2, it's the Euclidean distance. The formula is:\n",
        "\n",
        "$ d_{\\text{Minkowski}}(\\mathbf{p}, \\mathbf{q}, p) = \\left(\\sum_{i=1}^{n} |p_i - q_i|^p\\right)^{\\frac{1}{p}}  $\n",
        "\n",
        "The choice of 'p' allows you to adjust the sensitivity to different features and data distributions."
      ]
    },
    {
      "cell_type": "markdown",
      "id": "14e957e3",
      "metadata": {
        "id": "14e957e3"
      },
      "source": [
        "## Task 1 [60 marks]\n",
        "\n",
        "In the previous exercise, we utilised the Euclidean distance measure to calculate the distances between test samples and their neighbors. Now, let's explore the impact of alternative distance measures, specifically Minkowski (with a 'p' value of 3) and Manhattan distances, on our results. In your report, follow these steps:\n",
        "\n",
        "1. **Code Implementation**: Implement the necessary code to compute Minkowski and Manhattan distances.\n",
        "\n",
        "2. **Consistent 'k' Values**: Keep the same 'k' values used in the previous code to to get the accuracy results of the distance measures used.\n",
        "\n",
        "3. **Accuracy Table**: Create a table that showcases the accuracy results for each distance measure and 'k' value.\n",
        "\n",
        "4. **Discussion**: Provide a thoughtful discussion of your findings, including any differences observed in the results and their potential implications.\n",
        "\n"
      ]
    },
    {
      "cell_type": "code",
      "execution_count": null,
      "id": "TKF71OTS0_Hs",
      "metadata": {
        "id": "TKF71OTS0_Hs"
      },
      "outputs": [],
      "source": []
    },
    {
      "cell_type": "code",
      "execution_count": null,
      "id": "Hx2EAD4z3BW-",
      "metadata": {
        "id": "Hx2EAD4z3BW-"
      },
      "outputs": [],
      "source": []
    },
    {
      "cell_type": "code",
      "execution_count": null,
      "id": "wxAOCWW93W5H",
      "metadata": {
        "id": "wxAOCWW93W5H"
      },
      "outputs": [],
      "source": []
    },
    {
      "cell_type": "markdown",
      "id": "P3gZWkTMSNsC",
      "metadata": {
        "id": "P3gZWkTMSNsC"
      },
      "source": [
        "# Scikit-learn Implementation\n",
        "\n",
        "If you're looking to apply k-NN algorithm to your data using Python, scikit-learn provides a convenient and user-friendly way to do so. First, you'll need to import the necessary module:\n",
        "```python\n",
        "from sklearn.neighbors import KNeighborsClassifier\n",
        "```\n",
        "\n",
        "You can initialise the classifier with various parameters:\n",
        "> More information can be found [here](https://scikit-learn.org/stable/modules/generated/sklearn.neighbors.KNeighborsClassifier.html)\n",
        "\n",
        "\n",
        "> More information on distacnce measures using scikit-learn can be found [here](https://scikit-learn.org/0.24/modules/generated/sklearn.neighbors.DistanceMetric.html)\n",
        "\n"
      ]
    },
    {
      "cell_type": "markdown",
      "id": "f92bd2ab",
      "metadata": {
        "id": "f92bd2ab"
      },
      "source": [
        "## Task 2 [40 marks]\n",
        "\n",
        "In this task, your objective is to replicate the procedure outlined in the tutorial using Scikit-Learn for the k-Nearest Neighbors (k-NN) algorithm. Follow these steps and include your findings in your report:\n",
        "\n",
        "1. **Code Implementation**: Write Python code using Scikit-Learn to perform k-NN as demonstrated in the tutorial.\n",
        "\n",
        "2. **Accuracy Comparison**: Generate a table that compares the accuracy results from Task1 with the ones obtained using Scikit-Learn for different distance measures and 'k' values.\n"
      ]
    },
    {
      "cell_type": "code",
      "execution_count": 15,
      "id": "PErxbuqS1Dxq",
      "metadata": {
        "id": "PErxbuqS1Dxq"
      },
      "outputs": [],
      "source": [
        "#Importing everything that we need\n",
        "\n",
        "import numpy as np\n",
        "import pandas as pd\n",
        "import matplotlib.pyplot as plt\n",
        "from sklearn.datasets import load_iris\n",
        "from sklearn.model_selection import train_test_split\n",
        "from sklearn.neighbors import KNeighborsClassifier\n",
        "from sklearn.metrics import accuracy_score\n"
      ]
    },
    {
      "cell_type": "code",
      "execution_count": 16,
      "metadata": {},
      "outputs": [],
      "source": [
        "iris = load_iris()\n",
        "X_train = np.array([i[:4] for i in Filetrain])\n",
        "y_train = np.array([i[4] for i in Filetrain])\n",
        "X_test = np.array([i[:4] for i in Filetest])\n",
        "y_test = np.array([i[4] for i in Filetest])\n"
      ]
    },
    {
      "cell_type": "code",
      "execution_count": 17,
      "metadata": {},
      "outputs": [],
      "source": [
        "#Defining and training the algorithm\n",
        "\n",
        "def fit_sklearn_knn(X_train, y_train, X_test, k, distance_measure):\n",
        "    if distance_measure == 'minkowski':\n",
        "        knn = KNeighborsClassifier(n_neighbors=k, metric=distance_measure, p=3) # set p to 3 for minkowski\n",
        "    else:\n",
        "        knn = KNeighborsClassifier(n_neighbors=k, metric=distance_measure)\n",
        "    knn.fit(X_train, y_train)\n",
        "    y_pred = knn.predict(X_test)\n",
        "    return y_pred\n"
      ]
    },
    {
      "cell_type": "code",
      "execution_count": 18,
      "metadata": {},
      "outputs": [],
      "source": [
        "#Evaluating the accuracy\n",
        "\n",
        "def evaluate_accuracy(y_pred, y_test):\n",
        "    acc = accuracy_score(y_test, y_pred)\n",
        "    return acc\n"
      ]
    },
    {
      "cell_type": "code",
      "execution_count": 19,
      "metadata": {},
      "outputs": [
        {
          "name": "stdout",
          "output_type": "stream",
          "text": [
            "Scikit-Learn: For k = 1, euclidean, Accuracy 93.33 %\n",
            "Scikit-Learn: For k = 3, euclidean, Accuracy 96.67 %\n",
            "Scikit-Learn: For k = 5, euclidean, Accuracy 96.67 %\n",
            "Scikit-Learn: For k = 7, euclidean, Accuracy 96.67 %\n",
            "Scikit-Learn: For k = 9, euclidean, Accuracy 96.67 %\n",
            "Scikit-Learn: For k = 11, euclidean, Accuracy 96.67 %\n",
            "Scikit-Learn: For k = 13, euclidean, Accuracy 100.00 %\n",
            "Scikit-Learn: For k = 15, euclidean, Accuracy 100.00 %\n",
            "Scikit-Learn: For k = 17, euclidean, Accuracy 96.67 %\n",
            "Scikit-Learn: For k = 19, euclidean, Accuracy 96.67 %\n",
            "Scikit-Learn: For k = 21, euclidean, Accuracy 96.67 %\n",
            "Scikit-Learn: For k = 23, euclidean, Accuracy 96.67 %\n",
            "Scikit-Learn: For k = 25, euclidean, Accuracy 96.67 %\n",
            "Scikit-Learn: For k = 27, euclidean, Accuracy 96.67 %\n",
            "Scikit-Learn: For k = 29, euclidean, Accuracy 96.67 %\n",
            "Scikit-Learn: For k = 1, manhattan, Accuracy 93.33 %\n",
            "Scikit-Learn: For k = 3, manhattan, Accuracy 96.67 %\n",
            "Scikit-Learn: For k = 5, manhattan, Accuracy 96.67 %\n",
            "Scikit-Learn: For k = 7, manhattan, Accuracy 96.67 %\n",
            "Scikit-Learn: For k = 9, manhattan, Accuracy 96.67 %\n",
            "Scikit-Learn: For k = 11, manhattan, Accuracy 96.67 %\n",
            "Scikit-Learn: For k = 13, manhattan, Accuracy 96.67 %\n",
            "Scikit-Learn: For k = 15, manhattan, Accuracy 96.67 %\n",
            "Scikit-Learn: For k = 17, manhattan, Accuracy 100.00 %\n",
            "Scikit-Learn: For k = 19, manhattan, Accuracy 100.00 %\n",
            "Scikit-Learn: For k = 21, manhattan, Accuracy 100.00 %\n",
            "Scikit-Learn: For k = 23, manhattan, Accuracy 96.67 %\n",
            "Scikit-Learn: For k = 25, manhattan, Accuracy 96.67 %\n",
            "Scikit-Learn: For k = 27, manhattan, Accuracy 96.67 %\n",
            "Scikit-Learn: For k = 29, manhattan, Accuracy 93.33 %\n",
            "Scikit-Learn: For k = 1, minkowski, Accuracy 93.33 %\n",
            "Scikit-Learn: For k = 3, minkowski, Accuracy 93.33 %\n",
            "Scikit-Learn: For k = 5, minkowski, Accuracy 93.33 %\n",
            "Scikit-Learn: For k = 7, minkowski, Accuracy 96.67 %\n",
            "Scikit-Learn: For k = 9, minkowski, Accuracy 96.67 %\n",
            "Scikit-Learn: For k = 11, minkowski, Accuracy 100.00 %\n",
            "Scikit-Learn: For k = 13, minkowski, Accuracy 100.00 %\n",
            "Scikit-Learn: For k = 15, minkowski, Accuracy 100.00 %\n",
            "Scikit-Learn: For k = 17, minkowski, Accuracy 96.67 %\n",
            "Scikit-Learn: For k = 19, minkowski, Accuracy 96.67 %\n",
            "Scikit-Learn: For k = 21, minkowski, Accuracy 96.67 %\n",
            "Scikit-Learn: For k = 23, minkowski, Accuracy 96.67 %\n",
            "Scikit-Learn: For k = 25, minkowski, Accuracy 96.67 %\n",
            "Scikit-Learn: For k = 27, minkowski, Accuracy 96.67 %\n",
            "Scikit-Learn: For k = 29, minkowski, Accuracy 96.67 %\n"
          ]
        }
      ],
      "source": [
        "#Comparing the accuracy\n",
        "\n",
        "k_list = [1, 3, 5, 7, 9, 11, 13, 15, 17, 19, 21, 23, 25, 27, 29]\n",
        "distance_measures = ['euclidean', 'manhattan', 'minkowski']\n",
        "\n",
        "result_list_sklearn = []\n",
        "\n",
        "for distance_measure in distance_measures:\n",
        "    for k in k_list:\n",
        "\n",
        "        y_pred_sklearn = fit_sklearn_knn(X_train, y_train, X_test, k, distance_measure)\n",
        "        acc_sklearn = evaluate_accuracy(y_pred_sklearn, y_test)\n",
        "        result_list_sklearn.append({'Distance Measure': distance_measure, 'k Value': k, 'Accuracy': acc_sklearn})\n",
        "        print(\"Scikit-Learn: For k = {}, {}, Accuracy {:.2f} %\".format(k, distance_measure, acc_sklearn * 100))\n"
      ]
    },
    {
      "cell_type": "code",
      "execution_count": 20,
      "metadata": {},
      "outputs": [
        {
          "name": "stdout",
          "output_type": "stream",
          "text": [
            "                         Distance Measure  k Value  Accuracy\n",
            "Custom Implementation 0         Euclidean        1  0.933333\n",
            "                      1         Euclidean        3  0.966667\n",
            "                      2         Euclidean        5  0.966667\n",
            "                      3         Euclidean        7  0.966667\n",
            "                      4         Euclidean        9  0.966667\n",
            "                      5         Euclidean       11  0.966667\n",
            "                      6         Euclidean       13  1.000000\n",
            "                      7         Euclidean       15  1.000000\n",
            "                      8         Euclidean       17  0.966667\n",
            "                      9         Euclidean       19  0.966667\n",
            "                      10        Euclidean       21  0.966667\n",
            "                      11        Euclidean       23  0.966667\n",
            "                      12        Euclidean       25  0.966667\n",
            "                      13        Euclidean       27  0.966667\n",
            "                      14        Euclidean       29  0.966667\n",
            "                      15        Manhattan        1  0.933333\n",
            "                      16        Manhattan        3  0.966667\n",
            "                      17        Manhattan        5  0.966667\n",
            "                      18        Manhattan        7  0.966667\n",
            "                      19        Manhattan        9  0.966667\n",
            "                      20        Manhattan       11  0.966667\n",
            "                      21        Manhattan       13  0.966667\n",
            "                      22        Manhattan       15  0.966667\n",
            "                      23        Manhattan       17  1.000000\n",
            "                      24        Manhattan       19  1.000000\n",
            "                      25        Manhattan       21  1.000000\n",
            "                      26        Manhattan       23  0.966667\n",
            "                      27        Manhattan       25  0.966667\n",
            "                      28        Manhattan       27  0.966667\n",
            "                      29        Manhattan       29  0.933333\n",
            "                      30        Minkowski        1  0.933333\n",
            "                      31        Minkowski        3  0.933333\n",
            "                      32        Minkowski        5  0.933333\n",
            "                      33        Minkowski        7  0.966667\n",
            "                      34        Minkowski        9  0.966667\n",
            "                      35        Minkowski       11  1.000000\n",
            "                      36        Minkowski       13  1.000000\n",
            "                      37        Minkowski       15  1.000000\n",
            "                      38        Minkowski       17  0.966667\n",
            "                      39        Minkowski       19  0.966667\n",
            "                      40        Minkowski       21  0.966667\n",
            "                      41        Minkowski       23  0.966667\n",
            "                      42        Minkowski       25  0.966667\n",
            "                      43        Minkowski       27  0.966667\n",
            "                      44        Minkowski       29  0.966667\n",
            "Scikit-Learn          0         euclidean        1  0.933333\n",
            "                      1         euclidean        3  0.966667\n",
            "                      2         euclidean        5  0.966667\n",
            "                      3         euclidean        7  0.966667\n",
            "                      4         euclidean        9  0.966667\n",
            "                      5         euclidean       11  0.966667\n",
            "                      6         euclidean       13  1.000000\n",
            "                      7         euclidean       15  1.000000\n",
            "                      8         euclidean       17  0.966667\n",
            "                      9         euclidean       19  0.966667\n",
            "                      10        euclidean       21  0.966667\n",
            "                      11        euclidean       23  0.966667\n",
            "                      12        euclidean       25  0.966667\n",
            "                      13        euclidean       27  0.966667\n",
            "                      14        euclidean       29  0.966667\n",
            "                      15        manhattan        1  0.933333\n",
            "                      16        manhattan        3  0.966667\n",
            "                      17        manhattan        5  0.966667\n",
            "                      18        manhattan        7  0.966667\n",
            "                      19        manhattan        9  0.966667\n",
            "                      20        manhattan       11  0.966667\n",
            "                      21        manhattan       13  0.966667\n",
            "                      22        manhattan       15  0.966667\n",
            "                      23        manhattan       17  1.000000\n",
            "                      24        manhattan       19  1.000000\n",
            "                      25        manhattan       21  1.000000\n",
            "                      26        manhattan       23  0.966667\n",
            "                      27        manhattan       25  0.966667\n",
            "                      28        manhattan       27  0.966667\n",
            "                      29        manhattan       29  0.933333\n",
            "                      30        minkowski        1  0.933333\n",
            "                      31        minkowski        3  0.933333\n",
            "                      32        minkowski        5  0.933333\n",
            "                      33        minkowski        7  0.966667\n",
            "                      34        minkowski        9  0.966667\n",
            "                      35        minkowski       11  1.000000\n",
            "                      36        minkowski       13  1.000000\n",
            "                      37        minkowski       15  1.000000\n",
            "                      38        minkowski       17  0.966667\n",
            "                      39        minkowski       19  0.966667\n",
            "                      40        minkowski       21  0.966667\n",
            "                      41        minkowski       23  0.966667\n",
            "                      42        minkowski       25  0.966667\n",
            "                      43        minkowski       27  0.966667\n",
            "                      44        minkowski       29  0.966667\n"
          ]
        }
      ],
      "source": [
        "result_df_sklearn = pd.DataFrame(result_list_sklearn)\n",
        "\n",
        "# Set display options\n",
        "pd.set_option('display.max_rows', None)\n",
        "pd.set_option('display.max_columns', None)\n",
        "pd.set_option('display.width', None)\n",
        "pd.set_option('display.max_colwidth', None)\n",
        "\n",
        "\n",
        "# Combine the results from both implementations for comparison\n",
        "result_df_comparison = pd.concat([result_df, result_df_sklearn], keys=['Custom Implementation', 'Scikit-Learn'])\n",
        "print(result_df_comparison)\n"
      ]
    }
  ],
  "metadata": {
    "colab": {
      "include_colab_link": true,
      "provenance": [],
      "toc_visible": true
    },
    "kernelspec": {
      "display_name": "Python 3 (ipykernel)",
      "language": "python",
      "name": "python3"
    },
    "language_info": {
      "codemirror_mode": {
        "name": "ipython",
        "version": 3
      },
      "file_extension": ".py",
      "mimetype": "text/x-python",
      "name": "python",
      "nbconvert_exporter": "python",
      "pygments_lexer": "ipython3",
      "version": "3.10.13"
    },
    "vscode": {
      "interpreter": {
        "hash": "31f2aee4e71d21fbe5cf8b01ff0e069b9275f58929596ceb00d14d90e3e16cd6"
      }
    }
  },
  "nbformat": 4,
  "nbformat_minor": 5
}
